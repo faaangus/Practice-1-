{
 "cells": [
  {
   "cell_type": "markdown",
   "id": "6c099bd6",
   "metadata": {},
   "source": [
    "## Program to print integers 1 to 10 (inclusive)"
   ]
  },
  {
   "cell_type": "markdown",
   "id": "b5752792",
   "metadata": {},
   "source": [
    "**print integers without a loop**"
   ]
  },
  {
   "cell_type": "code",
   "execution_count": 1,
   "id": "9a1df5b0",
   "metadata": {},
   "outputs": [
    {
     "name": "stdout",
     "output_type": "stream",
     "text": [
      "1 2 3 4 5 6 7 8 9 10\n"
     ]
    }
   ],
   "source": [
    "print(1,2,3,4,5,6,7,8,9,10)"
   ]
  },
  {
   "cell_type": "markdown",
   "id": "aa0613c0",
   "metadata": {},
   "source": [
    "**Print integers 1 to 10 using a for loop**"
   ]
  },
  {
   "cell_type": "code",
   "execution_count": 2,
   "id": "2256ec3f",
   "metadata": {},
   "outputs": [
    {
     "name": "stdout",
     "output_type": "stream",
     "text": [
      "1 3 5 7 9 "
     ]
    }
   ],
   "source": [
    "for i in range(1, 11, 2):\n",
    "    print(i, end=\" \")"
   ]
  },
  {
   "cell_type": "markdown",
   "id": "b4f25143",
   "metadata": {},
   "source": [
    "**print integers 1 to 10 using a while loop**"
   ]
  },
  {
   "cell_type": "code",
   "execution_count": 3,
   "id": "3cbbaecc",
   "metadata": {},
   "outputs": [
    {
     "name": "stdout",
     "output_type": "stream",
     "text": [
      "1\n",
      "2\n",
      "3\n",
      "4\n",
      "5\n",
      "6\n",
      "7\n",
      "8\n",
      "9\n",
      "10\n"
     ]
    }
   ],
   "source": [
    "j = 1\n",
    "while (j<=10):\n",
    "     print(j)\n",
    "     j = j + 1\n",
    "      # j += 1"
   ]
  }
 ],
 "metadata": {
  "kernelspec": {
   "display_name": "Python 3 (ipykernel)",
   "language": "python",
   "name": "python3"
  },
  "language_info": {
   "codemirror_mode": {
    "name": "ipython",
    "version": 3
   },
   "file_extension": ".py",
   "mimetype": "text/x-python",
   "name": "python",
   "nbconvert_exporter": "python",
   "pygments_lexer": "ipython3",
   "version": "3.9.12"
  }
 },
 "nbformat": 4,
 "nbformat_minor": 5
}
